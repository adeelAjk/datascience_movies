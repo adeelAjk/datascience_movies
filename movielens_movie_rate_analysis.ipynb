{
  "nbformat": 4,
  "nbformat_minor": 0,
  "metadata": {
    "colab": {
      "name": "movielens_analyze.ipynb",
      "version": "0.3.2",
      "provenance": [],
      "collapsed_sections": [],
      "toc_visible": true,
      "include_colab_link": true
    },
    "kernelspec": {
      "name": "python3",
      "display_name": "Python 3"
    }
  },
  "cells": [
    {
      "cell_type": "markdown",
      "metadata": {
        "id": "view-in-github",
        "colab_type": "text"
      },
      "source": [
        "<a href=\"https://colab.research.google.com/github/sylvioneto/python_datascience_movies/blob/master/movielens_movie_rate_analysis.ipynb\" target=\"_parent\"><img src=\"https://colab.research.google.com/assets/colab-badge.svg\" alt=\"Open In Colab\"/></a>"
      ]
    },
    {
      "cell_type": "markdown",
      "metadata": {
        "id": "c80kP_E-9JQF",
        "colab_type": "text"
      },
      "source": [
        "# Analyze general movies rating from IMDb"
      ]
    },
    {
      "cell_type": "code",
      "metadata": {
        "id": "aq-qo4BjRe2t",
        "colab_type": "code",
        "colab": {}
      },
      "source": [
        "import pandas as pd\n",
        "ratings = pd.read_csv(\"ratings.csv\")"
      ],
      "execution_count": 0,
      "outputs": []
    },
    {
      "cell_type": "code",
      "metadata": {
        "id": "12wksb2Nb53Q",
        "colab_type": "code",
        "colab": {
          "base_uri": "https://localhost:8080/",
          "height": 204
        },
        "outputId": "22551064-44f2-4f85-b4c6-3561b164fd9d"
      },
      "source": [
        "ratings.columns = [\"user\", \"movie\", \"rate\", \"rate_time\"]\n",
        "print(ratings.head(10))"
      ],
      "execution_count": 7,
      "outputs": [
        {
          "output_type": "stream",
          "text": [
            "   user  movie  rate  rate_time\n",
            "0     1      1   4.0  964982703\n",
            "1     1      3   4.0  964981247\n",
            "2     1      6   4.0  964982224\n",
            "3     1     47   5.0  964983815\n",
            "4     1     50   5.0  964982931\n",
            "5     1     70   3.0  964982400\n",
            "6     1    101   5.0  964980868\n",
            "7     1    110   4.0  964982176\n",
            "8     1    151   5.0  964984041\n",
            "9     1    157   5.0  964984100\n"
          ],
          "name": "stdout"
        }
      ]
    },
    {
      "cell_type": "code",
      "metadata": {
        "id": "d6akLTzacFu8",
        "colab_type": "code",
        "colab": {
          "base_uri": "https://localhost:8080/",
          "height": 51
        },
        "outputId": "7b2778a2-966a-4e73-a04b-a5743516cd65"
      },
      "source": [
        "print(\"Printing unique ratings\")\n",
        "print(ratings[\"rate\"].unique())"
      ],
      "execution_count": 8,
      "outputs": [
        {
          "output_type": "stream",
          "text": [
            "Printing unique ratings\n",
            "[4.  5.  3.  2.  1.  4.5 3.5 2.5 0.5 1.5]\n"
          ],
          "name": "stdout"
        }
      ]
    },
    {
      "cell_type": "code",
      "metadata": {
        "id": "Lcu38Dw2cLIW",
        "colab_type": "code",
        "colab": {
          "base_uri": "https://localhost:8080/",
          "height": 221
        },
        "outputId": "6a34f47f-6884-4c63-bc5b-331172a1ab31"
      },
      "source": [
        "print(\"Printing value counts\")\n",
        "print(ratings[\"rate\"].value_counts())"
      ],
      "execution_count": 9,
      "outputs": [
        {
          "output_type": "stream",
          "text": [
            "Printing value counts\n",
            "4.0    26818\n",
            "3.0    20047\n",
            "5.0    13211\n",
            "3.5    13136\n",
            "4.5     8551\n",
            "2.0     7551\n",
            "2.5     5550\n",
            "1.0     2811\n",
            "1.5     1791\n",
            "0.5     1370\n",
            "Name: rate, dtype: int64\n"
          ],
          "name": "stdout"
        }
      ]
    },
    {
      "cell_type": "code",
      "metadata": {
        "id": "DfjMTMQLcPjf",
        "colab_type": "code",
        "colab": {
          "base_uri": "https://localhost:8080/",
          "height": 51
        },
        "outputId": "f105990c-5eee-4c3f-9415-0062c519ed68"
      },
      "source": [
        "print(\"Printing average rating\")\n",
        "print(ratings[\"rate\"].mean())"
      ],
      "execution_count": 10,
      "outputs": [
        {
          "output_type": "stream",
          "text": [
            "Printing average rating\n",
            "3.501556983616962\n"
          ],
          "name": "stdout"
        }
      ]
    },
    {
      "cell_type": "code",
      "metadata": {
        "id": "hOaJO3LV4NkK",
        "colab_type": "code",
        "colab": {
          "base_uri": "https://localhost:8080/",
          "height": 119
        },
        "outputId": "6a82ea1d-7b98-4e91-dae4-381893c67709"
      },
      "source": [
        "ratings.rate.head()"
      ],
      "execution_count": 11,
      "outputs": [
        {
          "output_type": "execute_result",
          "data": {
            "text/plain": [
              "0    4.0\n",
              "1    4.0\n",
              "2    4.0\n",
              "3    5.0\n",
              "4    5.0\n",
              "Name: rate, dtype: float64"
            ]
          },
          "metadata": {
            "tags": []
          },
          "execution_count": 11
        }
      ]
    },
    {
      "cell_type": "code",
      "metadata": {
        "id": "SaP76Qtz33g_",
        "colab_type": "code",
        "colab": {
          "base_uri": "https://localhost:8080/",
          "height": 286
        },
        "outputId": "4a3ba235-5f3d-4b81-9dfe-4f3cc5c54b5d"
      },
      "source": [
        "# print histogram\n",
        "ratings.rate.plot(kind='hist')"
      ],
      "execution_count": 12,
      "outputs": [
        {
          "output_type": "execute_result",
          "data": {
            "text/plain": [
              "<matplotlib.axes._subplots.AxesSubplot at 0x7f01df56e1d0>"
            ]
          },
          "metadata": {
            "tags": []
          },
          "execution_count": 12
        },
        {
          "output_type": "display_data",
          "data": {
            "image/png": "[encoded data removed]",
            "text/plain": [
              "<Figure size 432x288 with 1 Axes>"
            ]
          },
          "metadata": {
            "tags": []
          }
        }
      ]
    },
    {
      "cell_type": "code",
      "metadata": {
        "id": "2WKlxB_s5KAF",
        "colab_type": "code",
        "colab": {
          "base_uri": "https://localhost:8080/",
          "height": 51
        },
        "outputId": "573fc237-7a1c-4608-bcdb-bec76cd30107"
      },
      "source": [
        "print(\"Printing median rating\")\n",
        "print(ratings[\"rate\"].median())"
      ],
      "execution_count": 13,
      "outputs": [
        {
          "output_type": "stream",
          "text": [
            "Printing median rating\n",
            "3.5\n"
          ],
          "name": "stdout"
        }
      ]
    },
    {
      "cell_type": "code",
      "metadata": {
        "id": "qGSxYbA75aNX",
        "colab_type": "code",
        "colab": {
          "base_uri": "https://localhost:8080/",
          "height": 187
        },
        "outputId": "1c45a75d-197d-4fc8-a592-67957426ff06"
      },
      "source": [
        "print(\"Describing rating\")\n",
        "print(ratings.rate.describe())"
      ],
      "execution_count": 14,
      "outputs": [
        {
          "output_type": "stream",
          "text": [
            "Describing rating\n",
            "count    100836.000000\n",
            "mean          3.501557\n",
            "std           1.042529\n",
            "min           0.500000\n",
            "25%           3.000000\n",
            "50%           3.500000\n",
            "75%           4.000000\n",
            "max           5.000000\n",
            "Name: rate, dtype: float64\n"
          ],
          "name": "stdout"
        }
      ]
    },
    {
      "cell_type": "markdown",
      "metadata": {
        "id": "tEJse1-X9Zi7",
        "colab_type": "text"
      },
      "source": [
        "# Analyzing a specific movie"
      ]
    },
    {
      "cell_type": "code",
      "metadata": {
        "id": "x325rFRU5ufV",
        "colab_type": "code",
        "colab": {
          "base_uri": "https://localhost:8080/",
          "height": 300
        },
        "outputId": "f34cf0ef-6d01-4fc4-bee6-f48d72d3ada9"
      },
      "source": [
        "import seaborn as sns\n",
        "\n",
        "sns.boxplot(ratings.rate)"
      ],
      "execution_count": 15,
      "outputs": [
        {
          "output_type": "execute_result",
          "data": {
            "text/plain": [
              "<matplotlib.axes._subplots.AxesSubplot at 0x7f01bcc4e400>"
            ]
          },
          "metadata": {
            "tags": []
          },
          "execution_count": 15
        },
        {
          "output_type": "display_data",
          "data": {
            "image/png": "[encoded data removed]",
            "text/plain": [
              "<Figure size 432x288 with 1 Axes>"
            ]
          },
          "metadata": {
            "tags": []
          }
        }
      ]
    },
    {
      "cell_type": "code",
      "metadata": {
        "id": "08Aik1K_7FVV",
        "colab_type": "code",
        "colab": {
          "base_uri": "https://localhost:8080/",
          "height": 359
        },
        "outputId": "afe3e4df-e8f7-459d-a516-bb6faf6133af"
      },
      "source": [
        "# importing movie file and print five first\n",
        "movies = pd.read_csv(\"movies.csv\")\n",
        "movies.columns = [\"movie\", \"title\", \"genres\"]\n",
        "movies.head(10)"
      ],
      "execution_count": 16,
      "outputs": [
        {
          "output_type": "execute_result",
          "data": {
            "text/html": [
              "<div>\n",
              "<style scoped>\n",
              "    .dataframe tbody tr th:only-of-type {\n",
              "        vertical-align: middle;\n",
              "    }\n",
              "\n",
              "    .dataframe tbody tr th {\n",
              "        vertical-align: top;\n",
              "    }\n",
              "\n",
              "    .dataframe thead th {\n",
              "        text-align: right;\n",
              "    }\n",
              "</style>\n",
              "<table border=\"1\" class=\"dataframe\">\n",
              "  <thead>\n",
              "    <tr style=\"text-align: right;\">\n",
              "      <th></th>\n",
              "      <th>movie</th>\n",
              "      <th>title</th>\n",
              "      <th>genres</th>\n",
              "    </tr>\n",
              "  </thead>\n",
              "  <tbody>\n",
              "    <tr>\n",
              "      <th>0</th>\n",
              "      <td>1</td>\n",
              "      <td>Toy Story (1995)</td>\n",
              "      <td>Adventure|Animation|Children|Comedy|Fantasy</td>\n",
              "    </tr>\n",
              "    <tr>\n",
              "      <th>1</th>\n",
              "      <td>2</td>\n",
              "      <td>Jumanji (1995)</td>\n",
              "      <td>Adventure|Children|Fantasy</td>\n",
              "    </tr>\n",
              "    <tr>\n",
              "      <th>2</th>\n",
              "      <td>3</td>\n",
              "      <td>Grumpier Old Men (1995)</td>\n",
              "      <td>Comedy|Romance</td>\n",
              "    </tr>\n",
              "    <tr>\n",
              "      <th>3</th>\n",
              "      <td>4</td>\n",
              "      <td>Waiting to Exhale (1995)</td>\n",
              "      <td>Comedy|Drama|Romance</td>\n",
              "    </tr>\n",
              "    <tr>\n",
              "      <th>4</th>\n",
              "      <td>5</td>\n",
              "      <td>Father of the Bride Part II (1995)</td>\n",
              "      <td>Comedy</td>\n",
              "    </tr>\n",
              "    <tr>\n",
              "      <th>5</th>\n",
              "      <td>6</td>\n",
              "      <td>Heat (1995)</td>\n",
              "      <td>Action|Crime|Thriller</td>\n",
              "    </tr>\n",
              "    <tr>\n",
              "      <th>6</th>\n",
              "      <td>7</td>\n",
              "      <td>Sabrina (1995)</td>\n",
              "      <td>Comedy|Romance</td>\n",
              "    </tr>\n",
              "    <tr>\n",
              "      <th>7</th>\n",
              "      <td>8</td>\n",
              "      <td>Tom and Huck (1995)</td>\n",
              "      <td>Adventure|Children</td>\n",
              "    </tr>\n",
              "    <tr>\n",
              "      <th>8</th>\n",
              "      <td>9</td>\n",
              "      <td>Sudden Death (1995)</td>\n",
              "      <td>Action</td>\n",
              "    </tr>\n",
              "    <tr>\n",
              "      <th>9</th>\n",
              "      <td>10</td>\n",
              "      <td>GoldenEye (1995)</td>\n",
              "      <td>Action|Adventure|Thriller</td>\n",
              "    </tr>\n",
              "  </tbody>\n",
              "</table>\n",
              "</div>"
            ],
            "text/plain": [
              "   movie  ...                                       genres\n",
              "0      1  ...  Adventure|Animation|Children|Comedy|Fantasy\n",
              "1      2  ...                   Adventure|Children|Fantasy\n",
              "2      3  ...                               Comedy|Romance\n",
              "3      4  ...                         Comedy|Drama|Romance\n",
              "4      5  ...                                       Comedy\n",
              "5      6  ...                        Action|Crime|Thriller\n",
              "6      7  ...                               Comedy|Romance\n",
              "7      8  ...                           Adventure|Children\n",
              "8      9  ...                                       Action\n",
              "9     10  ...                    Action|Adventure|Thriller\n",
              "\n",
              "[10 rows x 3 columns]"
            ]
          },
          "metadata": {
            "tags": []
          },
          "execution_count": 16
        }
      ]
    },
    {
      "cell_type": "code",
      "metadata": {
        "id": "r_mB9rbf8HNm",
        "colab_type": "code",
        "colab": {
          "base_uri": "https://localhost:8080/",
          "height": 320
        },
        "outputId": "8fa16214-eb13-4a93-981b-8424e42d3c42"
      },
      "source": [
        "# show toystory rates\n",
        "   \n",
        "print(\"Toy Story average rate is {}\".format(ratings.query(\"movie==1\").rate.mean()))\n",
        "print(\"Toy Story medium rate is {}\".format(ratings.query(\"movie==1\").rate.median()))\n",
        "\n",
        "ratings.query(\"movie==1\").rate.plot(kind='hist')"
      ],
      "execution_count": 17,
      "outputs": [
        {
          "output_type": "stream",
          "text": [
            "Toy Story average rate is 3.9209302325581397\n",
            "Toy Story medium rate is 4.0\n"
          ],
          "name": "stdout"
        },
        {
          "output_type": "execute_result",
          "data": {
            "text/plain": [
              "<matplotlib.axes._subplots.AxesSubplot at 0x7f01bca9a518>"
            ]
          },
          "metadata": {
            "tags": []
          },
          "execution_count": 17
        },
        {
          "output_type": "display_data",
          "data": {
            "image/png": "[encoded data removed]",
            "text/plain": [
              "<Figure size 432x288 with 1 Axes>"
            ]
          },
          "metadata": {
            "tags": []
          }
        }
      ]
    },
    {
      "cell_type": "code",
      "metadata": {
        "id": "muhvc9DF-h8-",
        "colab_type": "code",
        "colab": {
          "base_uri": "https://localhost:8080/",
          "height": 1088
        },
        "outputId": "d142d4d5-d452-4661-a60c-a64fd896068e"
      },
      "source": [
        "# group movies and display average rate\n",
        "ratings.groupby(\"movie\").mean().rate"
      ],
      "execution_count": 18,
      "outputs": [
        {
          "output_type": "execute_result",
          "data": {
            "text/plain": [
              "movie\n",
              "1         3.920930\n",
              "2         3.431818\n",
              "3         3.259615\n",
              "4         2.357143\n",
              "5         3.071429\n",
              "6         3.946078\n",
              "7         3.185185\n",
              "8         2.875000\n",
              "9         3.125000\n",
              "10        3.496212\n",
              "11        3.671429\n",
              "12        2.421053\n",
              "13        3.125000\n",
              "14        3.833333\n",
              "15        3.000000\n",
              "16        3.926829\n",
              "17        3.776119\n",
              "18        3.700000\n",
              "19        2.727273\n",
              "20        2.500000\n",
              "21        3.494382\n",
              "22        3.222222\n",
              "23        3.125000\n",
              "24        3.125000\n",
              "25        3.625000\n",
              "26        3.500000\n",
              "27        3.333333\n",
              "28        4.227273\n",
              "29        4.013158\n",
              "30        3.000000\n",
              "            ...   \n",
              "188189    4.500000\n",
              "188301    3.666667\n",
              "188675    3.500000\n",
              "188751    4.500000\n",
              "188797    4.000000\n",
              "188833    4.500000\n",
              "189043    2.500000\n",
              "189111    3.000000\n",
              "189333    3.750000\n",
              "189381    2.500000\n",
              "189547    1.000000\n",
              "189713    2.500000\n",
              "190183    3.500000\n",
              "190207    1.500000\n",
              "190209    4.000000\n",
              "190213    1.000000\n",
              "190215    1.500000\n",
              "190219    1.000000\n",
              "190221    1.000000\n",
              "191005    4.500000\n",
              "193565    3.500000\n",
              "193567    3.000000\n",
              "193571    4.000000\n",
              "193573    4.000000\n",
              "193579    3.500000\n",
              "193581    4.000000\n",
              "193583    3.500000\n",
              "193585    3.500000\n",
              "193587    3.500000\n",
              "193609    4.000000\n",
              "Name: rate, Length: 9724, dtype: float64"
            ]
          },
          "metadata": {
            "tags": []
          },
          "execution_count": 18
        }
      ]
    },
    {
      "cell_type": "code",
      "metadata": {
        "id": "b742t61iACab",
        "colab_type": "code",
        "colab": {
          "base_uri": "https://localhost:8080/",
          "height": 286
        },
        "outputId": "58887d5b-8140-491e-8a5f-a2c05461cb14"
      },
      "source": [
        "# display using panda\n",
        "ratings.groupby(\"movie\").mean().rate.plot(kind=\"hist\")"
      ],
      "execution_count": 19,
      "outputs": [
        {
          "output_type": "execute_result",
          "data": {
            "text/plain": [
              "<matplotlib.axes._subplots.AxesSubplot at 0x7f01bb7eea20>"
            ]
          },
          "metadata": {
            "tags": []
          },
          "execution_count": 19
        },
        {
          "output_type": "display_data",
          "data": {
            "image/png": "[encoded data removed]",
            "text/plain": [
              "<Figure size 432x288 with 1 Axes>"
            ]
          },
          "metadata": {
            "tags": []
          }
        }
      ]
    },
    {
      "cell_type": "code",
      "metadata": {
        "id": "_VIbxvq1AyT8",
        "colab_type": "code",
        "colab": {
          "base_uri": "https://localhost:8080/",
          "height": 300
        },
        "outputId": "42bb6fe3-cfc3-4737-ac7d-c7c1cc6ebca7"
      },
      "source": [
        "# display using seaborn \n",
        "sns.distplot(ratings.groupby(\"movie\").mean().rate)"
      ],
      "execution_count": 20,
      "outputs": [
        {
          "output_type": "execute_result",
          "data": {
            "text/plain": [
              "<matplotlib.axes._subplots.AxesSubplot at 0x7f01bb76cd68>"
            ]
          },
          "metadata": {
            "tags": []
          },
          "execution_count": 20
        },
        {
          "output_type": "display_data",
          "data": {
            "image/png": "[encoded data removed]",
            "text/plain": [
              "<Figure size 432x288 with 1 Axes>"
            ]
          },
          "metadata": {
            "tags": []
          }
        }
      ]
    }
  ]
}