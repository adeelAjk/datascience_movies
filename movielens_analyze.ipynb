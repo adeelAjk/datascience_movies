{
  "nbformat": 4,
  "nbformat_minor": 0,
  "metadata": {
    "colab": {
      "name": "movielens_analyze.ipynb",
      "version": "0.3.2",
      "provenance": [],
      "collapsed_sections": [],
      "include_colab_link": true
    },
    "kernelspec": {
      "name": "python3",
      "display_name": "Python 3"
    }
  },
  "cells": [
    {
      "cell_type": "markdown",
      "metadata": {
        "id": "view-in-github",
        "colab_type": "text"
      },
      "source": [
        "<a href=\"https://colab.research.google.com/github/sylvioneto/python_datascience_movies/blob/master/movielens_analyze.ipynb\" target=\"_parent\"><img src=\"https://colab.research.google.com/assets/colab-badge.svg\" alt=\"Open In Colab\"/></a>"
      ]
    },
    {
      "metadata": {
        "id": "c80kP_E-9JQF",
        "colab_type": "text"
      },
      "cell_type": "markdown",
      "source": [
        "# Analyze general movies rating from IMDb"
      ]
    },
    {
      "metadata": {
        "id": "aq-qo4BjRe2t",
        "colab_type": "code",
        "colab": {}
      },
      "cell_type": "code",
      "source": [
        "import pandas as pd\n",
        "\n",
        "ratings = pd.read_csv(\"ratings.csv\")"
      ],
      "execution_count": 0,
      "outputs": []
    },
    {
      "metadata": {
        "id": "12wksb2Nb53Q",
        "colab_type": "code",
        "colab": {}
      },
      "cell_type": "code",
      "source": [
        "ratings.columns = [\"user\", \"movie\", \"rate\", \"rate_time\"]\n",
        "print(ratings)"
      ],
      "execution_count": 0,
      "outputs": []
    },
    {
      "metadata": {
        "id": "d6akLTzacFu8",
        "colab_type": "code",
        "colab": {}
      },
      "cell_type": "code",
      "source": [
        "print(\"Printing unique ratings\")\n",
        "print(ratings[\"rate\"].unique())"
      ],
      "execution_count": 0,
      "outputs": []
    },
    {
      "metadata": {
        "id": "Lcu38Dw2cLIW",
        "colab_type": "code",
        "colab": {}
      },
      "cell_type": "code",
      "source": [
        "print(\"Printing value counts\")\n",
        "print(ratings[\"rate\"].value_counts())"
      ],
      "execution_count": 0,
      "outputs": []
    },
    {
      "metadata": {
        "id": "DfjMTMQLcPjf",
        "colab_type": "code",
        "colab": {}
      },
      "cell_type": "code",
      "source": [
        "print(\"Printing average rating\")\n",
        "print(ratings[\"rate\"].mean())"
      ],
      "execution_count": 0,
      "outputs": []
    },
    {
      "metadata": {
        "id": "hOaJO3LV4NkK",
        "colab_type": "code",
        "colab": {}
      },
      "cell_type": "code",
      "source": [
        "ratings.rate.head()"
      ],
      "execution_count": 0,
      "outputs": []
    },
    {
      "metadata": {
        "id": "SaP76Qtz33g_",
        "colab_type": "code",
        "colab": {}
      },
      "cell_type": "code",
      "source": [
        "ratings.rate.plot(kind='hist')"
      ],
      "execution_count": 0,
      "outputs": []
    },
    {
      "metadata": {
        "id": "2WKlxB_s5KAF",
        "colab_type": "code",
        "colab": {}
      },
      "cell_type": "code",
      "source": [
        "print(\"Printing median rating\")\n",
        "print(ratings[\"rate\"].median())"
      ],
      "execution_count": 0,
      "outputs": []
    },
    {
      "metadata": {
        "id": "qGSxYbA75aNX",
        "colab_type": "code",
        "colab": {}
      },
      "cell_type": "code",
      "source": [
        "print(\"Describing rating\")\n",
        "print(ratings.rate.describe())"
      ],
      "execution_count": 0,
      "outputs": []
    },
    {
      "metadata": {
        "id": "tEJse1-X9Zi7",
        "colab_type": "text"
      },
      "cell_type": "markdown",
      "source": [
        "# Analyzing a specific movie"
      ]
    },
    {
      "metadata": {
        "id": "x325rFRU5ufV",
        "colab_type": "code",
        "colab": {}
      },
      "cell_type": "code",
      "source": [
        "import seaborn as sns\n",
        "\n",
        "sns.boxplot(ratings.rate)"
      ],
      "execution_count": 0,
      "outputs": []
    },
    {
      "metadata": {
        "id": "08Aik1K_7FVV",
        "colab_type": "code",
        "colab": {}
      },
      "cell_type": "code",
      "source": [
        "# importing movie file and print five first\n",
        "movies = pd.read_csv(\"movies.csv\")\n",
        "movies.columns = [\"movie\", \"title\", \"genres\"]\n",
        "movies.head()"
      ],
      "execution_count": 0,
      "outputs": []
    },
    {
      "metadata": {
        "id": "r_mB9rbf8HNm",
        "colab_type": "code",
        "colab": {}
      },
      "cell_type": "code",
      "source": [
        "# show toystory rates\n",
        "   \n",
        "print(\"Toy Story average rate is {}\".format(ratings.query(\"movie==1\").rate.mean()))\n",
        "print(\"Toy Story medium rate is {}\".format(ratings.query(\"movie==1\").rate.median()))\n",
        "\n",
        "ratings.query(\"movie==1\").rate.plot(kind='hist')"
      ],
      "execution_count": 0,
      "outputs": []
    },
    {
      "metadata": {
        "id": "muhvc9DF-h8-",
        "colab_type": "code",
        "colab": {}
      },
      "cell_type": "code",
      "source": [
        "# group movies and display average rate\n",
        "ratings.groupby(\"movie\").mean().rate"
      ],
      "execution_count": 0,
      "outputs": []
    },
    {
      "metadata": {
        "id": "b742t61iACab",
        "colab_type": "code",
        "colab": {}
      },
      "cell_type": "code",
      "source": [
        "# display using panda\n",
        "ratings.groupby(\"movie\").mean().rate.plot(kind=\"hist\")"
      ],
      "execution_count": 0,
      "outputs": []
    },
    {
      "metadata": {
        "id": "_VIbxvq1AyT8",
        "colab_type": "code",
        "colab": {}
      },
      "cell_type": "code",
      "source": [
        "# display using seaborn \n",
        "sns.distplot(ratings.groupby(\"movie\").mean().rate)"
      ],
      "execution_count": 0,
      "outputs": []
    }
  ]
}