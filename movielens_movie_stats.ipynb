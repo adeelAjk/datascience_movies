{
  "nbformat": 4,
  "nbformat_minor": 0,
  "metadata": {
    "colab": {
      "name": "movies_stats.ipynb",
      "version": "0.3.2",
      "provenance": [],
      "collapsed_sections": [],
      "include_colab_link": true
    },
    "kernelspec": {
      "name": "python3",
      "display_name": "Python 3"
    }
  },
  "cells": [
    {
      "cell_type": "markdown",
      "metadata": {
        "id": "view-in-github",
        "colab_type": "text"
      },
      "source": [
        "<a href=\"https://colab.research.google.com/github/sylvioneto/python_datascience_movies/blob/master/movielens_movie_stats.ipynb\" target=\"_parent\"><img src=\"https://colab.research.google.com/assets/colab-badge.svg\" alt=\"Open In Colab\"/></a>"
      ]
    },
    {
      "cell_type": "code",
      "metadata": {
        "id": "WsE7GZtQKfrV",
        "colab_type": "code",
        "colab": {}
      },
      "source": [
        "# environment setup\n",
        "!pip install seaborn==0.9.0\n",
        "import seaborn as sns\n",
        "print(sns.__version__)\n",
        "import pandas as pd\n",
        "import matplotlib.pyplot as plt"
      ],
      "execution_count": 0,
      "outputs": []
    },
    {
      "cell_type": "code",
      "metadata": {
        "id": "voWTCLsDKZH7",
        "colab_type": "code",
        "colab": {}
      },
      "source": [
        "# read the file and show first 2 records\n",
        "movies = pd.read_csv(\"movies.csv\")\n",
        "movies.head(2)\n",
        "\n"
      ],
      "execution_count": 0,
      "outputs": []
    },
    {
      "cell_type": "code",
      "metadata": {
        "id": "WIA_N4EC4-nh",
        "colab_type": "code",
        "outputId": "e25bd8d9-efe7-4e5b-b805-90ee33947320",
        "colab": {
          "base_uri": "https://localhost:8080/",
          "height": 139
        }
      },
      "source": [
        "# get the ratings for jumanji and toystory and present some numbers\n",
        "ratings = pd.read_csv(\"ratings.csv\")\n",
        "toy_story_ratings = ratings.query(\"movieId==1\")\n",
        "jumanji_ratings = ratings.query(\"movieId==2\")\n",
        "\n",
        "print(\"Toy Story ratings count {}, Jumanji Ratings count {}\".format(len(toy_story_ratings), len(jumanji_ratings)))\n",
        "\n",
        "print(\"Toy Story average rating %.2f\" % toy_story_ratings.rating.mean())\n",
        "print(\"Toy Story medium rate %.2f\" % toy_story_ratings.rating.median())\n",
        "print(\"Toy Story standard deviation %.2f\" % toy_story_ratings.rating.std())\n",
        "\n",
        "print(\"Jumanji average rating %.2f\" % jumanji_ratings.rating.mean())\n",
        "print(\"Jumanji medium rate %.2f\" % jumanji_ratings.rating.median())\n",
        "print(\"Jumanji standard deviation %.2f\" % jumanji_ratings.rating.std())"
      ],
      "execution_count": 0,
      "outputs": [
        {
          "output_type": "stream",
          "text": [
            "Toy Story ratings count 215, Jumanji Ratings count 110\n",
            "Toy Story average rating 3.92\n",
            "Toy Story medium rate 4.00\n",
            "Toy Story standard deviation 0.83\n",
            "Jumanji average rating 3.43\n",
            "Jumanji medium rate 3.50\n",
            "Jumanji standard deviation 0.88\n"
          ],
          "name": "stdout"
        }
      ]
    },
    {
      "cell_type": "code",
      "metadata": {
        "id": "sb0EhPSY61ar",
        "colab_type": "code",
        "outputId": "0573ad64-6ab6-455c-89c9-8349341fcfb9",
        "colab": {
          "base_uri": "https://localhost:8080/",
          "height": 584
        }
      },
      "source": [
        "# plot using matplot to see data distribuition\n",
        "plt.hist(toy_story_ratings.rating)\n",
        "plt.hist(jumanji_ratings.rating)\n",
        "plt.boxplot([toy_story_ratings.rating, jumanji_ratings.rating])"
      ],
      "execution_count": 0,
      "outputs": [
        {
          "output_type": "stream",
          "text": [
            "/usr/local/lib/python3.6/dist-packages/numpy/core/fromnumeric.py:52: FutureWarning: reshape is deprecated and will raise in a subsequent release. Please use .values.reshape(...) instead\n",
            "  return getattr(obj, method)(*args, **kwds)\n"
          ],
          "name": "stderr"
        },
        {
          "output_type": "execute_result",
          "data": {
            "text/plain": [
              "{'boxes': [<matplotlib.lines.Line2D at 0x7efd0e8c6be0>,\n",
              "  <matplotlib.lines.Line2D at 0x7efd0e85d128>],\n",
              " 'caps': [<matplotlib.lines.Line2D at 0x7efd0e850400>,\n",
              "  <matplotlib.lines.Line2D at 0x7efd0e850748>,\n",
              "  <matplotlib.lines.Line2D at 0x7efd0e85db38>,\n",
              "  <matplotlib.lines.Line2D at 0x7efd0e85de80>],\n",
              " 'fliers': [<matplotlib.lines.Line2D at 0x7efd0e850dd8>,\n",
              "  <matplotlib.lines.Line2D at 0x7efd0e866550>],\n",
              " 'means': [],\n",
              " 'medians': [<matplotlib.lines.Line2D at 0x7efd0e850a90>,\n",
              "  <matplotlib.lines.Line2D at 0x7efd0e866208>],\n",
              " 'whiskers': [<matplotlib.lines.Line2D at 0x7efd0e8c6d30>,\n",
              "  <matplotlib.lines.Line2D at 0x7efd0e8500b8>,\n",
              "  <matplotlib.lines.Line2D at 0x7efd0e85d4a8>,\n",
              "  <matplotlib.lines.Line2D at 0x7efd0e85d7f0>]}"
            ]
          },
          "metadata": {
            "tags": []
          },
          "execution_count": 7
        },
        {
          "output_type": "display_data",
          "data": {
            "image/png": "[encoded data removed]",
            "text/plain": [
              "<Figure size 432x288 with 1 Axes>"
            ]
          },
          "metadata": {
            "tags": []
          }
        }
      ]
    },
    {
      "cell_type": "code",
      "metadata": {
        "id": "rh2Jyp7261ZE",
        "colab_type": "code",
        "outputId": "e906655e-0702-4d70-dfe0-024659727b76",
        "colab": {
          "base_uri": "https://localhost:8080/",
          "height": 301
        }
      },
      "source": [
        "# plot using seaborn\n",
        "sns.boxplot(x = \"movieId\" , y = \"rating\", data = ratings.query(\"movieId in [1,2]\"))\n"
      ],
      "execution_count": 0,
      "outputs": [
        {
          "output_type": "execute_result",
          "data": {
            "text/plain": [
              "<matplotlib.axes._subplots.AxesSubplot at 0x7efd111e96d8>"
            ]
          },
          "metadata": {
            "tags": []
          },
          "execution_count": 5
        },
        {
          "output_type": "display_data",
          "data": {
            "image/png": "[encoded data removed]",
            "text/plain": [
              "<Figure size 432x288 with 1 Axes>"
            ]
          },
          "metadata": {
            "tags": []
          }
        }
      ]
    },
    {
      "cell_type": "code",
      "metadata": {
        "id": "ZfrAhqqI583a",
        "colab_type": "code",
        "colab": {}
      },
      "source": [
        ""
      ],
      "execution_count": 0,
      "outputs": []
    }
  ]
}