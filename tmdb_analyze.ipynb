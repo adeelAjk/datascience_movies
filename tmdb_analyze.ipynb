{
  "nbformat": 4,
  "nbformat_minor": 0,
  "metadata": {
    "colab": {
      "name": "tmdb_analyze.ipynb",
      "version": "0.3.2",
      "provenance": [],
      "collapsed_sections": [],
      "include_colab_link": true
    },
    "kernelspec": {
      "name": "python3",
      "display_name": "Python 3"
    }
  },
  "cells": [
    {
      "cell_type": "markdown",
      "metadata": {
        "id": "view-in-github",
        "colab_type": "text"
      },
      "source": [
        "<a href=\"https://colab.research.google.com/github/sylvioneto/python_datascience_movies/blob/master/tmdb_analyze.ipynb\" target=\"_parent\"><img src=\"https://colab.research.google.com/assets/colab-badge.svg\" alt=\"Open In Colab\"/></a>"
      ]
    },
    {
      "metadata": {
        "id": "pf3QyxVsnK1z",
        "colab_type": "code",
        "colab": {}
      },
      "cell_type": "code",
      "source": [
        "# environment setup\n",
        "!pip install seaborn==0.9.0\n",
        "import seaborn as sns\n",
        "print(sns.__version__)\n",
        "import pandas as pd"
      ],
      "execution_count": 0,
      "outputs": []
    },
    {
      "metadata": {
        "id": "H_T7et_2f5MP",
        "colab_type": "code",
        "colab": {}
      },
      "cell_type": "code",
      "source": [
        "# read the file and show first 5 records\n",
        "tmdb = pd.read_csv(\"tmdb_5000_movies.csv\")\n",
        "tmdb.head()"
      ],
      "execution_count": 0,
      "outputs": []
    },
    {
      "metadata": {
        "id": "oKvWfL8bhK6u",
        "colab_type": "code",
        "colab": {}
      },
      "cell_type": "code",
      "source": [
        "# unique movie languages\n",
        "tmdb.original_language.unique()\n",
        "\n",
        "# how many movies in each language\n",
        "print(\"show as serie\")\n",
        "tmdb[\"original_language\"].value_counts()"
      ],
      "execution_count": 0,
      "outputs": []
    },
    {
      "metadata": {
        "id": "7yTAirRmkp7o",
        "colab_type": "code",
        "colab": {}
      },
      "cell_type": "code",
      "source": [
        "# tranform serie to data frame\n",
        "df_lang_count = tmdb[\"original_language\"].value_counts().to_frame().reset_index()\n",
        "df_lang_count.columns = [\"language\", \"total\"]\n",
        "df_lang_count"
      ],
      "execution_count": 0,
      "outputs": []
    },
    {
      "metadata": {
        "id": "1A8Jwbr6lDuj",
        "colab_type": "code",
        "colab": {}
      },
      "cell_type": "code",
      "source": [
        "# Plot categories using barplot\n",
        "import seaborn as sns\n",
        "\n",
        "sns.barplot(x = \"language\", y = \"total\", data = df_lang_count)"
      ],
      "execution_count": 0,
      "outputs": []
    },
    {
      "metadata": {
        "id": "lEqLOvWBmSXN",
        "colab_type": "code",
        "colab": {}
      },
      "cell_type": "code",
      "source": [
        "# Plot categories using catplot\n",
        "sns.catplot(x = \"original_language\", kind=\"count\", data = tmdb)"
      ],
      "execution_count": 0,
      "outputs": []
    },
    {
      "metadata": {
        "id": "O96v25V63EKE",
        "colab_type": "code",
        "colab": {}
      },
      "cell_type": "code",
      "source": [
        "# plot in a pie chat\n",
        "import matplotlib.pyplot as plt\n",
        "plt.pie(df_lang_count[\"total\"], labels = df_lang_count[\"language\"])"
      ],
      "execution_count": 0,
      "outputs": []
    },
    {
      "metadata": {
        "id": "Xb9FeNbE5bl3",
        "colab_type": "code",
        "colab": {}
      },
      "cell_type": "code",
      "source": [
        "# grouping minor amounts\n",
        "\n",
        "# count and sum total movies\n",
        "total = tmdb[\"original_language\"].value_counts().sum()\n",
        "\n",
        "# count and get only english\n",
        "total_english = tmdb[\"original_language\"].value_counts().loc[\"en\"]\n",
        "\n",
        "# print values\n",
        "print(\"Total movies in English is {} and Others is {}\".format(total_english, total - total_english))\n",
        "\n",
        "# create a dictionary to store the values\n",
        "total_data_dic = {\n",
        "    'language' : ['english', 'others'],\n",
        "    'total' : [total_english,  total - total_english]\n",
        "}\n",
        "total_data_frame = pd.DataFrame(total_data_dic)\n",
        "\n",
        "# plot in a bar chart\n",
        "sns.barplot(data = total_data_frame, x = total_data_frame[\"language\"], y = total_data_frame[\"total\"])"
      ],
      "execution_count": 0,
      "outputs": []
    },
    {
      "metadata": {
        "id": "sE5lIj5r-ptp",
        "colab_type": "code",
        "colab": {}
      },
      "cell_type": "code",
      "source": [
        "# plot in a pie chart\n",
        "plt.pie(total_data_frame[\"total\"], labels = total_data_frame[\"language\"])"
      ],
      "execution_count": 0,
      "outputs": []
    },
    {
      "metadata": {
        "id": "3n6doKbY-yG3",
        "colab_type": "code",
        "outputId": "8cde5c98-b929-4041-abea-1a0d0d3d0a43",
        "colab": {
          "base_uri": "https://localhost:8080/",
          "height": 387
        }
      },
      "cell_type": "code",
      "source": [
        "# query non english movies\n",
        "non_english_movies = tmdb.query(\"original_language != 'en'\")\n",
        "sns.catplot(x = \"original_language\", kind=\"count\", data = non_english_movies)"
      ],
      "execution_count": 0,
      "outputs": [
        {
          "output_type": "execute_result",
          "data": {
            "text/plain": [
              "<seaborn.axisgrid.FacetGrid at 0x7fbc068a4a58>"
            ]
          },
          "metadata": {
            "tags": []
          },
          "execution_count": 26
        },
        {
          "output_type": "display_data",
          "data": {
            "image/png": "[encoded data removed]",
            "text/plain": [
              "<Figure size 360x360 with 1 Axes>"
            ]
          },
          "metadata": {
            "tags": []
          }
        }
      ]
    },
    {
      "metadata": {
        "id": "uGP4IxKAADab",
        "colab_type": "code",
        "outputId": "ffea2a81-6a95-4b01-d850-2c5b6b253b85",
        "colab": {
          "base_uri": "https://localhost:8080/",
          "height": 387
        }
      },
      "cell_type": "code",
      "source": [
        "# change aspect to make it less square\n",
        "sns.catplot(x = \"original_language\", kind=\"count\",\n",
        "            data = non_english_movies,\n",
        "            aspect = 2)"
      ],
      "execution_count": 0,
      "outputs": [
        {
          "output_type": "execute_result",
          "data": {
            "text/plain": [
              "<seaborn.axisgrid.FacetGrid at 0x7fbc06f894e0>"
            ]
          },
          "metadata": {
            "tags": []
          },
          "execution_count": 17
        },
        {
          "output_type": "display_data",
          "data": {
            "image/png": "[encoded data removed]",
            "text/plain": [
              "<Figure size 720x360 with 1 Axes>"
            ]
          },
          "metadata": {
            "tags": []
          }
        }
      ]
    },
    {
      "metadata": {
        "id": "kmRt89b0B0DP",
        "colab_type": "code",
        "outputId": "135d5135-5417-45c4-a01f-d59b0bf0cdc8",
        "colab": {
          "base_uri": "https://localhost:8080/",
          "height": 387
        }
      },
      "cell_type": "code",
      "source": [
        "# order higher to lower\n",
        "non_english_ordered = non_english_movies.original_language.value_counts()\n",
        "\n",
        "sns.catplot(x = \"original_language\", kind=\"count\",\n",
        "            data = non_english_movies,\n",
        "            aspect = 2,\n",
        "            order = non_english_count.index)"
      ],
      "execution_count": 0,
      "outputs": [
        {
          "output_type": "execute_result",
          "data": {
            "text/plain": [
              "<seaborn.axisgrid.FacetGrid at 0x7fbc04f312b0>"
            ]
          },
          "metadata": {
            "tags": []
          },
          "execution_count": 31
        },
        {
          "output_type": "display_data",
          "data": {
            "image/png": "[encoded data removed]",
            "text/plain": [
              "<Figure size 720x360 with 1 Axes>"
            ]
          },
          "metadata": {
            "tags": []
          }
        }
      ]
    },
    {
      "metadata": {
        "id": "WvPJcdNv_6E8",
        "colab_type": "code",
        "outputId": "7907281d-4536-4afc-9bdc-9973a627607d",
        "colab": {
          "base_uri": "https://localhost:8080/",
          "height": 387
        }
      },
      "cell_type": "code",
      "source": [
        "# using a palette of colours\n",
        "sns.catplot(x = \"original_language\", kind=\"count\",\n",
        "            data = non_english_movies,\n",
        "            aspect = 2,\n",
        "            palette=sns.color_palette(\"Blues_d\"),\n",
        "            order = non_english_count.index)"
      ],
      "execution_count": 0,
      "outputs": [
        {
          "output_type": "execute_result",
          "data": {
            "text/plain": [
              "<seaborn.axisgrid.FacetGrid at 0x7fbc04e36cf8>"
            ]
          },
          "metadata": {
            "tags": []
          },
          "execution_count": 32
        },
        {
          "output_type": "display_data",
          "data": {
            "image/png": "[encoded data removed]",
            "text/plain": [
              "<Figure size 720x360 with 1 Axes>"
            ]
          },
          "metadata": {
            "tags": []
          }
        }
      ]
    }
  ]
}